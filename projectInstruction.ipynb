{
 "cells": [
  {
   "cell_type": "markdown",
   "metadata": {},
   "source": [
    "# The project must include:"
   ]
  },
  {
   "cell_type": "markdown",
   "metadata": {},
   "source": [
    "- Description and analysis of a given algorithm\n",
    "    - Not as detailed as in the book (no need to copy), but sufficiently self-contained\n",
    "- Steps of the algorithm\n",
    "- Pros and Cons with examples\n",
    "- Application to a dataset\n",
    "    - Dataset from https://archive.ics.uci.edu/datasets\n",
    "    - Data cleaning and pre-processing\n",
    "    - Algorithm hyper-parameter tuning\n",
    "    - Accuracy Evaluation"
   ]
  },
  {
   "cell_type": "markdown",
   "metadata": {},
   "source": [
    "## To be delivered:"
   ]
  },
  {
   "cell_type": "markdown",
   "metadata": {},
   "source": [
    "- (Source of) One chapter in the form of a Jupyter Book.\n",
    "- Project is discussed at the oral exam, about one week after the written exam.\n",
    "- Deadline: a couple of days before the oral exam via Moodle."
   ]
  },
  {
   "cell_type": "markdown",
   "metadata": {},
   "source": [
    "## Evaluation:"
   ]
  },
  {
   "cell_type": "markdown",
   "metadata": {},
   "source": [
    "- Qaulity of the report\n",
    "- Quality of the code (I'll ask about every single line of code)\n",
    "- Depth of the analysis\n",
    "- Project can be insufficient (the exam is not passed)\n",
    "- Can be done in groups, one dataset per member"
   ]
  },
  {
   "cell_type": "markdown",
   "metadata": {},
   "source": [
    "## Score\n",
    "The lab contributes with a weight of 30% to the final mark (70% is for the written exam)"
   ]
  }
 ],
 "metadata": {
  "language_info": {
   "name": "python"
  }
 },
 "nbformat": 4,
 "nbformat_minor": 2
}
