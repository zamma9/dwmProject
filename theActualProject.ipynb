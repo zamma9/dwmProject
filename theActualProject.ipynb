{
 "cells": [
  {
   "cell_type": "markdown",
   "metadata": {},
   "source": [
    "# The k-NN algorithm\n",
    "## project by Giulia Zammarchi for the Data and Web Mining 2023-24 course"
   ]
  },
  {
   "cell_type": "markdown",
   "metadata": {},
   "source": [
    "The k-neighbors algorithm is a simple, instance-based learning (lazy learning) algorithm.  \n",
    "It does not construct an internal model, but stores all the instances of the training data and the output is computed from a simple majority vote or an average value of the nearest neighbors points. It doesn't learn a discriminative function."
   ]
  },
  {
   "cell_type": "markdown",
   "metadata": {},
   "source": [
    "## A theorical overview:"
   ]
  },
  {
   "cell_type": "markdown",
   "metadata": {},
   "source": [
    "The kNN algorithm can be used for both classification and regression problems.   \n",
    "Where:\n",
    "- ***Classification*** problems are the ones in which the objective is to estimate the <ins>class</ins> of each input.    \n",
    "        - Ex. either an email is spam or not.\n",
    "- ***Regression*** problems are the ones in which the algorithm has to esimate a <ins>numerical value</ins> for each input.    \n",
    "        - Ex. the price of a house on the market."
   ]
  },
  {
   "cell_type": "markdown",
   "metadata": {},
   "source": [
    "### k-Nearest Neighbors for Classification:"
   ]
  },
  {
   "cell_type": "markdown",
   "metadata": {},
   "source": [
    "By identifying the _k_ nearest poins in the training dataset to the point of the data. The assigned class is determined by the majority of its _k_ neighbors' classes."
   ]
  },
  {
   "cell_type": "markdown",
   "metadata": {},
   "source": [
    "### k-Nearest Neighbors for Regression:"
   ]
  },
  {
   "cell_type": "markdown",
   "metadata": {},
   "source": [
    "It works in a similar way, nut instead of assigning a class, it assigns a continuous value. The assigned value is the mean (sometimes the median) of the _k_ nearest neighbors."
   ]
  },
  {
   "cell_type": "markdown",
   "metadata": {},
   "source": [
    "# Code (later)"
   ]
  },
  {
   "cell_type": "code",
   "execution_count": 5,
   "metadata": {},
   "outputs": [],
   "source": [
    "%matplotlib inline\n",
    "# import libraries"
   ]
  },
  {
   "cell_type": "markdown",
   "metadata": {},
   "source": []
  }
 ],
 "metadata": {
  "kernelspec": {
   "display_name": "base",
   "language": "python",
   "name": "python3"
  },
  "language_info": {
   "codemirror_mode": {
    "name": "ipython",
    "version": 3
   },
   "file_extension": ".py",
   "mimetype": "text/x-python",
   "name": "python",
   "nbconvert_exporter": "python",
   "pygments_lexer": "ipython3",
   "version": "3.11.7"
  }
 },
 "nbformat": 4,
 "nbformat_minor": 2
}
