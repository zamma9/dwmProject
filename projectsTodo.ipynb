{
 "cells": [
  {
   "cell_type": "markdown",
   "source": [
    "# The lab project must include:"
   ],
   "metadata": {
    "collapsed": false,
    "pycharm": {
     "name": "#%% md\n"
    }
   }
  },
  {
   "cell_type": "markdown",
   "source": [
    "+ Description and analysis of a given algorithm\n",
    "    * Not as detailed as in the book (no need to copy), but sufficiently self-contained\n",
    "+ Steps of the algorithm\n",
    "+ Pros and Cons with examples\n",
    "+ Application to a dataset\n",
    "    * Dataset from https://archive.ics.uci.edu/datasets\n",
    "    * Data cleaning and pre-processing\n",
    "    * Algorithm hyper-parameter tuning\n",
    "    * Accuracy Evaluation\n"
   ],
   "metadata": {
    "collapsed": false,
    "pycharm": {
     "name": "#%% md\n"
    }
   }
  },
  {
   "cell_type": "markdown",
   "source": [
    "### To be delivered:"
   ],
   "metadata": {
    "collapsed": false,
    "pycharm": {
     "name": "#%% md\n"
    }
   }
  },
  {
   "cell_type": "markdown",
   "source": [
    "+ (Source of) One Chapter in the form of a Jupyter Book.\n",
    "+ Project is discussed at the oral exam, about one week after the written exam.\n",
    "+ Deadline: a couple of days before the oral exam via Moodle."
   ],
   "metadata": {
    "collapsed": false,
    "pycharm": {
     "name": "#%% md\n"
    }
   }
  },
  {
   "cell_type": "markdown",
   "source": [
    "### Evaluation:"
   ],
   "metadata": {
    "collapsed": false,
    "pycharm": {
     "name": "#%% md\n"
    }
   }
  },
  {
   "cell_type": "markdown",
   "source": [
    "+ Quality of the report\n",
    "+ Quality of the code (I'll ask about every single line of code)\n",
    "+ Depth of the analysis\n",
    "+ Project can be insufficient (the exam is not passed)\n",
    "+ Can be done in groups, one dataset per member"
   ],
   "metadata": {
    "collapsed": false,
    "pycharm": {
     "name": "#%% md\n"
    }
   }
  },
  {
   "cell_type": "markdown",
   "source": [
    "### Score:\n",
    "The lab contributes with a weight of 30% to the final mark\n",
    "(70% is for the written exam)"
   ],
   "metadata": {
    "collapsed": false,
    "pycharm": {
     "name": "#%% md\n"
    }
   }
  },
  {
   "cell_type": "markdown",
   "metadata": {},
   "source": [
    "+ Description and analysis of a given algorithm\n",
    "    * Not as detailed as in the book (no need to copy), but sufficiently self-contained\n",
    "+ Steps of the algorithm\n",
    "+ Pros and Cons with examples\n",
    "+ Application to a dataset\n",
    "    * Dataset from https://archive.ics.uci.edu/datasets\n",
    "    * Data cleaning and pre-processing\n",
    "    * Algorithm hyper-parameter tuning\n",
    "    * Accuracy Evaluation\n"
   ]
  },
  {
   "cell_type": "markdown",
   "metadata": {},
   "source": [
    "### To be delivered:"
   ]
  },
  {
   "cell_type": "markdown",
   "metadata": {},
   "source": [
    "+ (Source of) One Chapter in the form of a Jupyter Book.\n",
    "+ Project is discussed at the oral exam, about one week after the written exam.\n",
    "+ Deadline: a couple of days before the oral exam via Moodle."
   ]
  },
  {
   "cell_type": "markdown",
   "metadata": {},
   "source": [
    "### Evaluation:"
   ]
  },
  {
   "cell_type": "markdown",
   "metadata": {},
   "source": [
    "+ Quality of the report\n",
    "+ Quality of the code (I'll ask about every single line of code)\n",
    "+ Depth of the analysis\n",
    "+ Project can be insufficient (the exam is not passed)\n",
    "+ Can be done in groups, one dataset per member"
   ]
  },
  {
   "cell_type": "markdown",
   "metadata": {},
   "source": [
    "### Score:\n",
    "The lab contributes with a weight of 30% to the final mark\n",
    "(70% is for the written exam)"
   ]
  }
 ],
 "metadata": {
  "kernelspec": {
   "display_name": "base",
   "language": "python",
   "name": "python3"
  },
  "language_info": {
   "codemirror_mode": {
    "name": "ipython",
    "version": 3
   },
   "file_extension": ".py",
   "mimetype": "text/x-python",
   "name": "python",
   "nbconvert_exporter": "python",
   "pygments_lexer": "ipython3",
   "version": "3.11.7"
  }
 },
 "nbformat": 4,
 "nbformat_minor": 2
}