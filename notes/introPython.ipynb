{
 "cells": [
  {
   "cell_type": "markdown",
   "metadata": {},
   "source": [
    "# A bit of python\n",
    "Suggested material: \n",
    "- Learning Python. O'Reilly. Mark Lutz.\n",
    "- https://docs.python.org/3/tutorial/\n",
    "- https://docs.python.org/3/library/index.html\n",
    "- http://pythontutor.com/"
   ]
  },
  {
   "cell_type": "markdown",
   "metadata": {},
   "source": [
    "## Types:\n",
    "| Object type | Examples |\n",
    "|:-:|:-:|\n",
    "| Numbers | `1234`, `3.1415`, `3+4j`, ... |\n",
    "| Strings | `'spam'`, `\"Bob's\"`, ... |\n",
    "| Lists   | `[1, [2, 'three'], 4.5]`, `list(range(10))`, ... |\n",
    "| Dictionaries | `{'food': 'spam', 'taste': 'yum'}`, `dict(hours=10)`, ... |\n",
    "| Tuples |  `(1, 'spam', 4, 'U')`, `tuple('spam')`, ...|\n",
    "| Files |   `open('eggs.txt')`, `open(r'C:\\ham.bin', 'wb')`, ... |\n",
    "| Sets  | `set('abc')`, `{'a', 'b', 'c'}`, ... |\n",
    "| Other core types | `Booleans`, `None`, ... |\n",
    "\n",
    "function 'type' to ask the used type"
   ]
  },
  {
   "cell_type": "markdown",
   "metadata": {},
   "source": [
    "### Numbers"
   ]
  },
  {
   "cell_type": "code",
   "execution_count": 7,
   "metadata": {},
   "outputs": [
    {
     "name": "stdout",
     "output_type": "stream",
     "text": [
      "<class 'float'>\n",
      "output of 11/2: 5.5\n",
      "output of 11/2 as an int: 5\n"
     ]
    }
   ],
   "source": [
    "var = 2.0           # type not explicitly required\n",
    "print(type(var))\n",
    "\n",
    "print (\"output of 11/2:\", 11/2)             # implicit casting in excecution\n",
    "print (\"output of 11/2 as an int:\", 11//2)"
   ]
  },
  {
   "cell_type": "markdown",
   "metadata": {},
   "source": [
    "### Strings"
   ]
  },
  {
   "cell_type": "code",
   "execution_count": 3,
   "metadata": {},
   "outputs": [
    {
     "name": "stdout",
     "output_type": "stream",
     "text": [
      "What is the output of 'a'+'b': ab\n",
      "What is the output of 'a'*5: aaaaa\n",
      "What is the output of int('10')/5: 4.0\n",
      "888888\n"
     ]
    }
   ],
   "source": [
    "print (\"What is the output of 'a'+'b':\", 'a'+'b')\n",
    "print (\"What is the output of 'a'*5:\", 'a'*5 )\n",
    "# print (\"What is the output of 'aaaa'/5:\", 'a'/5 )  not allowed\n",
    "print (\"What is the output of int('10')/5:\", int('20')/5)\n",
    "print (str(8)*6)"
   ]
  },
  {
   "cell_type": "markdown",
   "metadata": {},
   "source": [
    "## Conditional statements"
   ]
  },
  {
   "cell_type": "code",
   "execution_count": 9,
   "metadata": {},
   "outputs": [
    {
     "name": "stdout",
     "output_type": "stream",
     "text": [
      "x greater than 10\n"
     ]
    }
   ],
   "source": [
    "x = 12\n",
    "if 0<x<10:\n",
    "    print(\"x lesser than 10\")\n",
    "elif x>40:\n",
    "    pass        # azione richiesta, ma non si vuole fare nulla\n",
    "else:\n",
    "    print(\"x greater than 10\")\n"
   ]
  },
  {
   "cell_type": "markdown",
   "metadata": {},
   "source": [
    "## Loops\n",
    "### While"
   ]
  },
  {
   "cell_type": "code",
   "execution_count": 21,
   "metadata": {},
   "outputs": [
    {
     "name": "stdout",
     "output_type": "stream",
     "text": [
      "acceptable value for the volume: 0\n",
      "acceptable value for the volume: 2\n",
      "acceptable value for the volume: 4\n",
      "acceptable value for the volume: 5\n",
      "acceptable value for the volume: 6\n",
      "acceptable value for the volume: 8\n",
      "acceptable value for the volume: 10\n",
      "out of the loop\n"
     ]
    }
   ],
   "source": [
    "i = 0\n",
    "while i<=10:\n",
    "    if i==11: break\n",
    "    if i%2==0 or i%5==0:\n",
    "        print(\"acceptable value for the volume:\", i)\n",
    "    i+=1\n",
    "print(\"out of the loop\")"
   ]
  },
  {
   "cell_type": "markdown",
   "metadata": {},
   "source": [
    "## For Loops"
   ]
  },
  {
   "cell_type": "code",
   "execution_count": 22,
   "metadata": {},
   "outputs": [
    {
     "name": "stdout",
     "output_type": "stream",
     "text": [
      "n.: 0\n",
      "n.: 1\n",
      "n.: 2\n",
      "n.: 3\n",
      "n.: 4\n"
     ]
    }
   ],
   "source": [
    "for i in range(5):\n",
    "    print(\"n.:\", i)"
   ]
  },
  {
   "cell_type": "code",
   "execution_count": 23,
   "metadata": {},
   "outputs": [
    {
     "name": "stdout",
     "output_type": "stream",
     "text": [
      "n.: 20\n",
      "n.: 15\n",
      "n.: 10\n",
      "n.: 5\n"
     ]
    }
   ],
   "source": [
    "for i in range(20,0,-5):\n",
    "    print(\"n.:\", i)"
   ]
  },
  {
   "cell_type": "markdown",
   "metadata": {},
   "source": [
    "## Lists"
   ]
  },
  {
   "cell_type": "code",
   "execution_count": 36,
   "metadata": {},
   "outputs": [
    {
     "name": "stdout",
     "output_type": "stream",
     "text": [
      "[1, 2, 3.4, 'string', 5, ['nested', 'list', 69]]\n",
      "6\n",
      "['nested', 'list', 69]\n",
      "3.4\n"
     ]
    }
   ],
   "source": [
    "my_list = [1,2,3.4] + [\"string\",5,[\"nested\",\"list\", 69]]\n",
    "print (my_list)\n",
    "print (len(my_list))\n",
    "print (my_list[5])\n",
    "# print (my_list[7])    out of range\n",
    "print (my_list[-4])\n",
    "# print (my_list[-13])  out of range (fa un solo giro all'indietro)"
   ]
  },
  {
   "cell_type": "code",
   "execution_count": 37,
   "metadata": {},
   "outputs": [
    {
     "name": "stdout",
     "output_type": "stream",
     "text": [
      "True\n",
      "2\n",
      "0\n"
     ]
    }
   ],
   "source": [
    "my_list = [1,2,3,4,5,4,3,2,1]\n",
    "\n",
    "print ( 3 in my_list) # esistenza\n",
    "\n",
    "print ( my_list.count(3)) # quanti ce ne sono\n",
    "\n",
    "print ( my_list.index(1)) # posizione prima occorrenza\n",
    "# print ( my_list.index(33)) # this raises an error"
   ]
  },
  {
   "cell_type": "markdown",
   "metadata": {},
   "source": [
    "### Slicing (sublists)"
   ]
  },
  {
   "cell_type": "code",
   "execution_count": 53,
   "metadata": {},
   "outputs": [
    {
     "name": "stdout",
     "output_type": "stream",
     "text": [
      "['b', 'c']\n",
      "['c', 'd']\n",
      "['e', 'f']\n",
      "['a', 'c', 'e']\n",
      "['a', 'c', 'e']\n",
      "['a', 'c', 'e']\n",
      "['f', 'e', 'd', 'c', 'b', 'a']\n"
     ]
    }
   ],
   "source": [
    "l = ['a', 'b', 'c','d', 'e', 'f']\n",
    "print (l[1:3])\n",
    "print (l[2:-2])\n",
    "print (l[4:])\n",
    "print (l[0:7:2]) # fino a fine lista\n",
    "print ( l[0::2] )\n",
    "print ( l[::2] )\n",
    "print ( l[::-1] )"
   ]
  },
  {
   "cell_type": "code",
   "execution_count": 57,
   "metadata": {},
   "outputs": [
    {
     "name": "stdout",
     "output_type": "stream",
     "text": [
      "['red', 'orange', 'yellow', 'green', 'blue', 'indigo', 'violet']\n",
      "['red', 'orange', 'yellow', 'green', 'blue', 'ultramarine', 'violet']\n",
      "['red', 'orange', 'yellow', 'green', ['light blue', 'dark blue'], 'ultramarine', 'violet']\n",
      "['red', 'orange', [], 'green', 'blue', 'indigo', 'violet']\n",
      "['red', 'orange', 'green', 'blue', 'indigo', 'violet']\n",
      "Is orange in the rainbow? True\n",
      "Is brown in the rainbow? False\n",
      "Is it true that cobal is not in the rainbow? True\n"
     ]
    }
   ],
   "source": [
    "my_list = ['red', 'orange', 'yellow', 'green', 'blue', 'indigo', 'violet']\n",
    "print (my_list)\n",
    "\n",
    "my_list[-2] = 'ultramarine'\n",
    "print (my_list)\n",
    "\n",
    "my_list[4] = ['light blue', 'dark blue']\n",
    "print (my_list)\n",
    "\n",
    "my_list = ['red', 'orange', 'yellow', 'green', 'blue', 'indigo', 'violet']\n",
    "my_list[2] = []\n",
    "print (my_list)\n",
    "\n",
    "my_list = ['red', 'orange', 'yellow', 'green', 'blue', 'indigo', 'violet']\n",
    "my_list[2:3] = []\n",
    "print (my_list)\n",
    "\n",
    "my_list = ['red', 'orange', 'yellow', 'green', 'blue', 'indigo', 'violet']\n",
    "print (\"Is orange in the rainbow?\", 'orange' in my_list )\n",
    "print (\"Is brown in the rainbow?\", 'brown' in my_list )\n",
    "print (\"Is it true that cobal is not in the rainbow?\", 'cobalt' not in my_list )"
   ]
  },
  {
   "cell_type": "markdown",
   "metadata": {},
   "source": [
    "## Tuple \n",
    "like lists but _immutable_"
   ]
  },
  {
   "cell_type": "markdown",
   "metadata": {},
   "source": [
    "## Unpacking"
   ]
  },
  {
   "cell_type": "code",
   "execution_count": 58,
   "metadata": {},
   "outputs": [
    {
     "name": "stdout",
     "output_type": "stream",
     "text": [
      "1 2 3\n"
     ]
    }
   ],
   "source": [
    "my_tuple = (1,2,3)      # you can do the same with lists\n",
    "a,b,c = my_tuple\n",
    "print (a,b,c)"
   ]
  },
  {
   "cell_type": "markdown",
   "metadata": {},
   "source": [
    "# Sorting"
   ]
  },
  {
   "cell_type": "code",
   "execution_count": null,
   "metadata": {},
   "outputs": [],
   "source": []
  }
 ],
 "metadata": {
  "kernelspec": {
   "display_name": "base",
   "language": "python",
   "name": "python3"
  },
  "language_info": {
   "codemirror_mode": {
    "name": "ipython",
    "version": 3
   },
   "file_extension": ".py",
   "mimetype": "text/x-python",
   "name": "python",
   "nbconvert_exporter": "python",
   "pygments_lexer": "ipython3",
   "version": "3.11.7"
  }
 },
 "nbformat": 4,
 "nbformat_minor": 2
}
